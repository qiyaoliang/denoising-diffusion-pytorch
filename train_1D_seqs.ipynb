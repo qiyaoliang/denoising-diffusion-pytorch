{
 "cells": [
  {
   "cell_type": "code",
   "execution_count": 1,
   "metadata": {},
   "outputs": [],
   "source": [
    "import numpy as np\n",
    "import torch\n",
    "import pickle\n",
    "from denoising_diffusion_pytorch import Unet1D, GaussianDiffusion1D, Trainer1D, Dataset1D"
   ]
  },
  {
   "cell_type": "code",
   "execution_count": 2,
   "metadata": {},
   "outputs": [],
   "source": [
    "dataset_name = '2_29_sine_dataset'\n",
    "# training_seq = torch.rand(64, 32, 128) # features are normalized from 0 to 1\n",
    "with open(f'./dataset/{dataset_name}/data.pkl', 'rb') as f:\n",
    "    dataset = pickle.load(f)"
   ]
  },
  {
   "cell_type": "code",
   "execution_count": 3,
   "metadata": {},
   "outputs": [],
   "source": [
    "from torch.utils.data import Dataset, DataLoader\n",
    "from multiprocessing import cpu_count\n",
    "\n",
    "dl = DataLoader(dataset, batch_size = 32, shuffle = True, pin_memory = True, num_workers = cpu_count())"
   ]
  },
  {
   "cell_type": "code",
   "execution_count": 7,
   "metadata": {},
   "outputs": [],
   "source": [
    "data =[x[0] for x in dl]\n",
    "labels = [x[1] for x in dl]"
   ]
  },
  {
   "cell_type": "code",
   "execution_count": 7,
   "metadata": {},
   "outputs": [],
   "source": [
    "def cycle(dl):\n",
    "    while True:\n",
    "        for data in dl:\n",
    "            yield data"
   ]
  },
  {
   "cell_type": "code",
   "execution_count": 8,
   "metadata": {},
   "outputs": [],
   "source": [
    "dl = cycle(dl)"
   ]
  },
  {
   "cell_type": "code",
   "execution_count": 9,
   "metadata": {},
   "outputs": [],
   "source": [
    "data = next(dl)"
   ]
  },
  {
   "cell_type": "code",
   "execution_count": 11,
   "metadata": {},
   "outputs": [],
   "source": [
    "img, labels = data"
   ]
  },
  {
   "cell_type": "code",
   "execution_count": 13,
   "metadata": {},
   "outputs": [
    {
     "data": {
      "text/plain": [
       "[tensor([0.4400, 0.6800, 0.2600, 0.5600, 0.2400, 0.9600, 0.8200, 0.5600, 0.4200,\n",
       "         0.2600, 0.8000, 0.5800, 0.8800, 0.7800, 0.6000, 0.6800, 0.6000, 0.9600,\n",
       "         0.5800, 0.5600, 0.2600, 0.5800, 0.3600, 0.3800, 0.8200, 0.5600, 0.3600,\n",
       "         0.3200, 0.9800, 0.2000, 0.4800, 0.3600], dtype=torch.float64),\n",
       " tensor([1.1000, 3.9000, 2.1000, 1.8000, 1.9000, 2.1000, 2.1000, 2.1000, 4.5000,\n",
       "         4.4000, 2.1000, 2.1000, 3.8000, 4.8000, 1.5000, 4.6000, 4.0000, 2.6000,\n",
       "         2.7000, 4.8000, 2.4000, 3.4000, 4.2000, 3.0000, 4.8000, 2.4000, 2.0000,\n",
       "         2.0000, 2.0000, 1.9000, 1.3000, 3.6000], dtype=torch.float64)]"
      ]
     },
     "execution_count": 13,
     "metadata": {},
     "output_type": "execute_result"
    }
   ],
   "source": [
    "labels"
   ]
  },
  {
   "cell_type": "code",
   "execution_count": 10,
   "metadata": {},
   "outputs": [
    {
     "ename": "AttributeError",
     "evalue": "'generator' object has no attribute 'item'",
     "output_type": "error",
     "traceback": [
      "\u001b[0;31m---------------------------------------------------------------------------\u001b[0m",
      "\u001b[0;31mAttributeError\u001b[0m                            Traceback (most recent call last)",
      "Cell \u001b[0;32mIn[10], line 1\u001b[0m\n\u001b[0;32m----> 1\u001b[0m \u001b[43mdl\u001b[49m\u001b[38;5;241;43m.\u001b[39;49m\u001b[43mitem\u001b[49m(\u001b[38;5;241m0\u001b[39m)\n",
      "\u001b[0;31mAttributeError\u001b[0m: 'generator' object has no attribute 'item'"
     ]
    }
   ],
   "source": [
    "dl.item(0)"
   ]
  },
  {
   "cell_type": "code",
   "execution_count": 32,
   "metadata": {},
   "outputs": [
    {
     "name": "stdout",
     "output_type": "stream",
     "text": [
      "(32, 128) (32,) (32,)\n",
      "(32, 128) (32,) (32,)\n",
      "(32, 128) (32,) (32,)\n",
      "(32, 128) (32,) (32,)\n",
      "(32, 128) (32,) (32,)\n",
      "(32, 128) (32,) (32,)\n",
      "(32, 128) (32,) (32,)\n",
      "(32, 128) (32,) (32,)\n",
      "(32, 128) (32,) (32,)\n",
      "(32, 128) (32,) (32,)\n",
      "(32, 128) (32,) (32,)\n",
      "(32, 128) (32,) (32,)\n"
     ]
    }
   ],
   "source": [
    "for i, (data, labels) in enumerate(dl):\n",
    "    print(np.array(data).shape, np.array(labels[0]).shape, np.array(labels[1]).shape)\n",
    "    if i > 10:\n",
    "        break"
   ]
  },
  {
   "cell_type": "code",
   "execution_count": 28,
   "metadata": {},
   "outputs": [
    {
     "data": {
      "text/plain": [
       "(32,)"
      ]
     },
     "execution_count": 28,
     "metadata": {},
     "output_type": "execute_result"
    }
   ],
   "source": [
    "np.array(data[1][1]).shape"
   ]
  },
  {
   "cell_type": "code",
   "execution_count": 14,
   "metadata": {},
   "outputs": [
    {
     "ename": "",
     "evalue": "",
     "output_type": "error",
     "traceback": [
      "\u001b[1;31mThe Kernel crashed while executing code in the current cell or a previous cell. \n",
      "\u001b[1;31mPlease review the code in the cell(s) to identify a possible cause of the failure. \n",
      "\u001b[1;31mClick <a href='https://aka.ms/vscodeJupyterKernelCrash'>here</a> for more info. \n",
      "\u001b[1;31mView Jupyter <a href='command:jupyter.viewOutput'>log</a> for further details."
     ]
    }
   ],
   "source": [
    "model = Unet1D(\n",
    "    dim = 64,\n",
    "    dim_mults = (1, 2, 4, 8),\n",
    "    channels = 32\n",
    ")\n",
    "\n",
    "diffusion = GaussianDiffusion1D(\n",
    "    model,\n",
    "    seq_length = 128,\n",
    "    timesteps = 1000,\n",
    "    objective = 'pred_noise'\n",
    ")\n",
    "dataset_name = '2_29_sine_dataset'\n",
    "# training_seq = torch.rand(64, 32, 128) # features are normalized from 0 to 1\n",
    "with open(f'./dataset/{dataset_name}/data.pkl', 'rb') as f:\n",
    "    dataset = pickle.load(f)\n",
    "# dataset = Dataset1D(training_seq)  # this is just an example, but you can formulate your own Dataset and pass it into the `Trainer1D` below\n",
    "\n",
    "# loss = diffusion(dataset)\n",
    "# loss.backward()\n",
    "\n",
    "# Or using trainer\n",
    "\n",
    "trainer = Trainer1D(\n",
    "    diffusion,\n",
    "    dataset = dataset,\n",
    "    train_batch_size = 32,\n",
    "    train_lr = 8e-5,\n",
    "    train_num_steps = 700000,         # total training steps\n",
    "    gradient_accumulate_every = 2,    # gradient accumulation steps\n",
    "    ema_decay = 0.995,                # exponential moving average decay\n",
    "    amp = True,                       # turn on mixed precision\n",
    ")\n",
    "trainer.train()\n",
    "\n",
    "# after a lot of training\n",
    "\n",
    "# sampled_seq = diffusion.sample(batch_size = 4)\n",
    "# sampled_seq.shape # (4, 32, 128)"
   ]
  },
  {
   "cell_type": "code",
   "execution_count": null,
   "metadata": {},
   "outputs": [],
   "source": []
  }
 ],
 "metadata": {
  "kernelspec": {
   "display_name": "catherine",
   "language": "python",
   "name": "python3"
  },
  "language_info": {
   "codemirror_mode": {
    "name": "ipython",
    "version": 3
   },
   "file_extension": ".py",
   "mimetype": "text/x-python",
   "name": "python",
   "nbconvert_exporter": "python",
   "pygments_lexer": "ipython3",
   "version": "3.10.8"
  }
 },
 "nbformat": 4,
 "nbformat_minor": 2
}
